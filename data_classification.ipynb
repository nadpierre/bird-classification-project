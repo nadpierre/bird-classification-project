{
  "cells": [
    {
      "cell_type": "markdown",
      "metadata": {
        "id": "D-uA9O3xw4f8"
      },
      "source": [
        "# Bird Image Classification Project"
      ]
    },
    {
      "cell_type": "markdown",
      "metadata": {
        "id": "fJG2Ixzq-1pg"
      },
      "source": [
        "## Imports and Data Loading"
      ]
    },
    {
      "cell_type": "code",
      "execution_count": 1,
      "metadata": {
        "id": "FN9682nxQxb0"
      },
      "outputs": [],
      "source": [
        "# Imports\n",
        "from glob import glob\n",
        "import math\n",
        "import os\n",
        "import pandas as pd\n",
        "from pathlib import Path\n",
        "import pickle\n",
        "from PIL import Image\n",
        "import random\n",
        "#import tensorflow as tf\n",
        "#from transformers import AutoImageProcessor, TFViTForImageClassification as ViTForImageClassification"
      ]
    },
    {
      "cell_type": "code",
      "execution_count": 2,
      "metadata": {
        "colab": {
          "base_uri": "https://localhost:8080/"
        },
        "id": "VIrr06MsTAPl",
        "outputId": "d8cd739f-3f86-46f5-de65-b7b23cdb0a71"
      },
      "outputs": [
        {
          "name": "stdout",
          "output_type": "stream",
          "text": [
            "Mounted at /content/drive\n"
          ]
        }
      ],
      "source": [
        "# Mount Google Drive\n",
        "from google.colab import drive\n",
        "drive.mount('/content/drive')"
      ]
    },
    {
      "cell_type": "code",
      "execution_count": 2,
      "metadata": {
        "id": "rH9CRTQGTC8k"
      },
      "outputs": [],
      "source": [
        "# Define path to data directory\n",
        "#data_dir = os.path.join('drive', 'MyDrive', 'ConcordiaBootcamp', 'Data', 'birds')\n",
        "data_dir = 'data'"
      ]
    },
    {
      "cell_type": "markdown",
      "metadata": {
        "id": "DDZ71WzW--dT"
      },
      "source": [
        "## EDA"
      ]
    },
    {
      "cell_type": "code",
      "execution_count": 3,
      "metadata": {
        "colab": {
          "base_uri": "https://localhost:8080/"
        },
        "id": "qp6z788c_PJm",
        "outputId": "641f460c-fead-4b58-9e0a-7e92bb8ee00d"
      },
      "outputs": [
        {
          "data": {
            "text/plain": [
              "['valid', 'test', 'train', 'images to predict']"
            ]
          },
          "execution_count": 3,
          "metadata": {},
          "output_type": "execute_result"
        }
      ],
      "source": [
        "# Get subfolders\n",
        "subfolders = [d.name for d in Path(data_dir).iterdir() if d.is_dir()]\n",
        "subfolders"
      ]
    },
    {
      "cell_type": "code",
      "execution_count": 5,
      "metadata": {
        "colab": {
          "base_uri": "https://localhost:8080/"
        },
        "id": "Ej64iq8m_igP",
        "outputId": "7943921f-edba-495e-831d-09cbebc82c8b"
      },
      "outputs": [
        {
          "data": {
            "text/plain": [
              "['AFRICAN EMERALD CUCKOO',\n",
              " 'AMERICAN COOT',\n",
              " 'AFRICAN PYGMY GOOSE',\n",
              " 'ABBOTTS BABBLER',\n",
              " 'ALBERTS TOWHEE',\n",
              " 'ALTAMIRA YELLOWTHROAT',\n",
              " 'AMERICAN FLAMINGO',\n",
              " 'AMERICAN AVOCET',\n",
              " 'AFRICAN PIED HORNBILL',\n",
              " 'AFRICAN CROWNED CRANE',\n",
              " 'AMERICAN GOLDFINCH',\n",
              " 'AMERICAN KESTREL',\n",
              " 'AFRICAN OYSTER CATCHER',\n",
              " 'ALPINE CHOUGH',\n",
              " 'AMERICAN BITTERN',\n",
              " 'ABYSSINIAN GROUND HORNBILL',\n",
              " 'ALBATROSS',\n",
              " 'ABBOTTS BOOBY',\n",
              " 'AFRICAN FIREFINCH',\n",
              " 'ALEXANDRINE PARAKEET']"
            ]
          },
          "execution_count": 5,
          "metadata": {},
          "output_type": "execute_result"
        }
      ],
      "source": [
        "# Get categories\n",
        "categories = [d.name for d in Path(data_dir + '/train').iterdir() if d.is_dir()]\n",
        "categories"
      ]
    },
    {
      "cell_type": "code",
      "execution_count": 6,
      "metadata": {
        "colab": {
          "base_uri": "https://localhost:8080/"
        },
        "id": "TzAW2cAkLj0d",
        "outputId": "8ed4a432-4724-4814-e58f-10fb03be8c20"
      },
      "outputs": [
        {
          "data": {
            "text/plain": [
              "3408"
            ]
          },
          "execution_count": 6,
          "metadata": {},
          "output_type": "execute_result"
        }
      ],
      "source": [
        "# Get total number of images\n",
        "complete_list = list(Path(data_dir).glob('*/*/*.jpg'))\n",
        "nb_images = len(complete_list)\n",
        "nb_images"
      ]
    },
    {
      "cell_type": "code",
      "execution_count": 7,
      "metadata": {
        "colab": {
          "base_uri": "https://localhost:8080/",
          "height": 241
        },
        "id": "gVxuOZWWQxb5",
        "outputId": "760f3441-0136-484b-a5cb-6a613eca316e"
      },
      "outputs": [
        {
          "data": {
            "image/jpeg": "[encoded data removed]",
            "image/png": "[encoded data removed]",
            "text/plain": [
              "<PIL.JpegImagePlugin.JpegImageFile image mode=RGB size=224x224>"
            ]
          },
          "metadata": {},
          "output_type": "display_data"
        }
      ],
      "source": [
        "# Load one image at random\n",
        "img_path = random.choice(complete_list)\n",
        "image = Image.open(img_path)\n",
        "display(image)"
      ]
    },
    {
      "cell_type": "markdown",
      "metadata": {
        "id": "1soaCucXMLng"
      },
      "source": [
        "## Data Preprocessing"
      ]
    },
    {
      "cell_type": "code",
      "execution_count": 8,
      "metadata": {
        "colab": {
          "base_uri": "https://localhost:8080/",
          "height": 341
        },
        "id": "gtxA1ofGaZpU",
        "outputId": "16ebfd5a-f8d1-4e01-91b9-c4a13bc0cc05"
      },
      "outputs": [
        {
          "data": {
            "text/html": [
              "<div>\n",
              "<style scoped>\n",
              "    .dataframe tbody tr th:only-of-type {\n",
              "        vertical-align: middle;\n",
              "    }\n",
              "\n",
              "    .dataframe tbody tr th {\n",
              "        vertical-align: top;\n",
              "    }\n",
              "\n",
              "    .dataframe thead th {\n",
              "        text-align: right;\n",
              "    }\n",
              "</style>\n",
              "<table border=\"1\" class=\"dataframe\">\n",
              "  <thead>\n",
              "    <tr style=\"text-align: right;\">\n",
              "      <th></th>\n",
              "      <th>set</th>\n",
              "      <th>image</th>\n",
              "      <th>width</th>\n",
              "      <th>height</th>\n",
              "      <th>number</th>\n",
              "      <th>label</th>\n",
              "    </tr>\n",
              "  </thead>\n",
              "  <tbody>\n",
              "    <tr>\n",
              "      <th>159</th>\n",
              "      <td>test</td>\n",
              "      <td>&lt;PIL.JpegImagePlugin.JpegImageFile image mode=...</td>\n",
              "      <td>224</td>\n",
              "      <td>224</td>\n",
              "      <td>11</td>\n",
              "      <td>ALEXANDRINE PARAKEET</td>\n",
              "    </tr>\n",
              "    <tr>\n",
              "      <th>625</th>\n",
              "      <td>train</td>\n",
              "      <td>&lt;PIL.JpegImagePlugin.JpegImageFile image mode=...</td>\n",
              "      <td>224</td>\n",
              "      <td>224</td>\n",
              "      <td>2</td>\n",
              "      <td>ABYSSINIAN GROUND HORNBILL</td>\n",
              "    </tr>\n",
              "    <tr>\n",
              "      <th>967</th>\n",
              "      <td>train</td>\n",
              "      <td>&lt;PIL.JpegImagePlugin.JpegImageFile image mode=...</td>\n",
              "      <td>224</td>\n",
              "      <td>224</td>\n",
              "      <td>4</td>\n",
              "      <td>AFRICAN EMERALD CUCKOO</td>\n",
              "    </tr>\n",
              "    <tr>\n",
              "      <th>1686</th>\n",
              "      <td>train</td>\n",
              "      <td>&lt;PIL.JpegImagePlugin.JpegImageFile image mode=...</td>\n",
              "      <td>224</td>\n",
              "      <td>224</td>\n",
              "      <td>9</td>\n",
              "      <td>ALBATROSS</td>\n",
              "    </tr>\n",
              "    <tr>\n",
              "      <th>1643</th>\n",
              "      <td>train</td>\n",
              "      <td>&lt;PIL.JpegImagePlugin.JpegImageFile image mode=...</td>\n",
              "      <td>224</td>\n",
              "      <td>224</td>\n",
              "      <td>8</td>\n",
              "      <td>AFRICAN PYGMY GOOSE</td>\n",
              "    </tr>\n",
              "  </tbody>\n",
              "</table>\n",
              "</div>"
            ],
            "text/plain": [
              "        set                                              image  width  height  \\\n",
              "159    test  <PIL.JpegImagePlugin.JpegImageFile image mode=...    224     224   \n",
              "625   train  <PIL.JpegImagePlugin.JpegImageFile image mode=...    224     224   \n",
              "967   train  <PIL.JpegImagePlugin.JpegImageFile image mode=...    224     224   \n",
              "1686  train  <PIL.JpegImagePlugin.JpegImageFile image mode=...    224     224   \n",
              "1643  train  <PIL.JpegImagePlugin.JpegImageFile image mode=...    224     224   \n",
              "\n",
              "      number                       label  \n",
              "159       11        ALEXANDRINE PARAKEET  \n",
              "625        2  ABYSSINIAN GROUND HORNBILL  \n",
              "967        4      AFRICAN EMERALD CUCKOO  \n",
              "1686       9                   ALBATROSS  \n",
              "1643       8         AFRICAN PYGMY GOOSE  "
            ]
          },
          "execution_count": 8,
          "metadata": {},
          "output_type": "execute_result"
        }
      ],
      "source": [
        "# Add images into a dataframe\n",
        "birds = []\n",
        "\n",
        "for subfolder in subfolders:\n",
        "  subfolder_path = os.path.join(data_dir, subfolder)\n",
        "  categories = [d.name for d in Path(subfolder_path).iterdir() if d.is_dir()]\n",
        "  categories = sorted(categories)\n",
        "\n",
        "  if len(categories) > 0: # remove images to predict\n",
        "\n",
        "    for i, category in enumerate(categories):\n",
        "      category_path = os.path.join(subfolder_path, category)\n",
        "      img_path_list = list(Path(category_path).glob('*.jpg'))\n",
        "\n",
        "      for img_path in img_path_list:\n",
        "        img = Image.open(img_path)\n",
        "        width, height = img.size\n",
        "        birds.append({\n",
        "            'set': subfolder,\n",
        "            'image': img,\n",
        "            'width': width,\n",
        "            'height': height,\n",
        "            'number': i,\n",
        "            'label': category\n",
        "        })\n",
        "\n",
        "birds_df = pd.DataFrame(birds)\n",
        "birds_df.sample(5)"
      ]
    },
    {
      "cell_type": "code",
      "execution_count": 9,
      "metadata": {
        "id": "4pBZ4-kRhz2s"
      },
      "outputs": [],
      "source": [
        "# Serialize data with pickle\n",
        "with open('birds.pkl', 'wb') as handle:\n",
        "  pickle.dump(birds_df, handle, protocol=pickle.HIGHEST_PROTOCOL)"
      ]
    },
    {
      "cell_type": "markdown",
      "metadata": {},
      "source": [
        "---"
      ]
    },
    {
      "cell_type": "code",
      "execution_count": 10,
      "metadata": {},
      "outputs": [
        {
          "data": {
            "text/html": [
              "<div>\n",
              "<style scoped>\n",
              "    .dataframe tbody tr th:only-of-type {\n",
              "        vertical-align: middle;\n",
              "    }\n",
              "\n",
              "    .dataframe tbody tr th {\n",
              "        vertical-align: top;\n",
              "    }\n",
              "\n",
              "    .dataframe thead th {\n",
              "        text-align: right;\n",
              "    }\n",
              "</style>\n",
              "<table border=\"1\" class=\"dataframe\">\n",
              "  <thead>\n",
              "    <tr style=\"text-align: right;\">\n",
              "      <th></th>\n",
              "      <th>set</th>\n",
              "      <th>image</th>\n",
              "      <th>width</th>\n",
              "      <th>height</th>\n",
              "      <th>number</th>\n",
              "      <th>label</th>\n",
              "    </tr>\n",
              "  </thead>\n",
              "  <tbody>\n",
              "    <tr>\n",
              "      <th>0</th>\n",
              "      <td>valid</td>\n",
              "      <td>&lt;PIL.JpegImagePlugin.JpegImageFile image mode=...</td>\n",
              "      <td>224</td>\n",
              "      <td>224</td>\n",
              "      <td>0</td>\n",
              "      <td>ABBOTTS BABBLER</td>\n",
              "    </tr>\n",
              "    <tr>\n",
              "      <th>1</th>\n",
              "      <td>valid</td>\n",
              "      <td>&lt;PIL.JpegImagePlugin.JpegImageFile image mode=...</td>\n",
              "      <td>224</td>\n",
              "      <td>224</td>\n",
              "      <td>0</td>\n",
              "      <td>ABBOTTS BABBLER</td>\n",
              "    </tr>\n",
              "    <tr>\n",
              "      <th>2</th>\n",
              "      <td>valid</td>\n",
              "      <td>&lt;PIL.JpegImagePlugin.JpegImageFile image mode=...</td>\n",
              "      <td>224</td>\n",
              "      <td>224</td>\n",
              "      <td>0</td>\n",
              "      <td>ABBOTTS BABBLER</td>\n",
              "    </tr>\n",
              "    <tr>\n",
              "      <th>3</th>\n",
              "      <td>valid</td>\n",
              "      <td>&lt;PIL.JpegImagePlugin.JpegImageFile image mode=...</td>\n",
              "      <td>224</td>\n",
              "      <td>224</td>\n",
              "      <td>0</td>\n",
              "      <td>ABBOTTS BABBLER</td>\n",
              "    </tr>\n",
              "    <tr>\n",
              "      <th>4</th>\n",
              "      <td>valid</td>\n",
              "      <td>&lt;PIL.JpegImagePlugin.JpegImageFile image mode=...</td>\n",
              "      <td>224</td>\n",
              "      <td>224</td>\n",
              "      <td>0</td>\n",
              "      <td>ABBOTTS BABBLER</td>\n",
              "    </tr>\n",
              "  </tbody>\n",
              "</table>\n",
              "</div>"
            ],
            "text/plain": [
              "     set                                              image  width  height  \\\n",
              "0  valid  <PIL.JpegImagePlugin.JpegImageFile image mode=...    224     224   \n",
              "1  valid  <PIL.JpegImagePlugin.JpegImageFile image mode=...    224     224   \n",
              "2  valid  <PIL.JpegImagePlugin.JpegImageFile image mode=...    224     224   \n",
              "3  valid  <PIL.JpegImagePlugin.JpegImageFile image mode=...    224     224   \n",
              "4  valid  <PIL.JpegImagePlugin.JpegImageFile image mode=...    224     224   \n",
              "\n",
              "   number            label  \n",
              "0       0  ABBOTTS BABBLER  \n",
              "1       0  ABBOTTS BABBLER  \n",
              "2       0  ABBOTTS BABBLER  \n",
              "3       0  ABBOTTS BABBLER  \n",
              "4       0  ABBOTTS BABBLER  "
            ]
          },
          "execution_count": 10,
          "metadata": {},
          "output_type": "execute_result"
        }
      ],
      "source": [
        "# Load dataframe\n",
        "with open('birds.pkl', 'rb') as handle:\n",
        "\tbirds_df = pickle.load(handle)\n",
        "birds_df.head(5)"
      ]
    },
    {
      "cell_type": "code",
      "execution_count": 13,
      "metadata": {},
      "outputs": [
        {
          "name": "stdout",
          "output_type": "stream",
          "text": [
            "<class 'pandas.core.frame.DataFrame'>\n",
            "RangeIndex: 3408 entries, 0 to 3407\n",
            "Data columns (total 6 columns):\n",
            " #   Column  Non-Null Count  Dtype \n",
            "---  ------  --------------  ----- \n",
            " 0   set     3408 non-null   object\n",
            " 1   image   3408 non-null   object\n",
            " 2   width   3408 non-null   int64 \n",
            " 3   height  3408 non-null   int64 \n",
            " 4   number  3408 non-null   int64 \n",
            " 5   label   3408 non-null   object\n",
            "dtypes: int64(3), object(3)\n",
            "memory usage: 159.9+ KB\n"
          ]
        }
      ],
      "source": [
        "birds_df.info()"
      ]
    },
    {
      "cell_type": "code",
      "execution_count": 17,
      "metadata": {},
      "outputs": [
        {
          "data": {
            "text/plain": [
              "{0: 'ABBOTTS BABBLER',\n",
              " 1: 'ABBOTTS BOOBY',\n",
              " 2: 'ABYSSINIAN GROUND HORNBILL',\n",
              " 3: 'AFRICAN CROWNED CRANE',\n",
              " 4: 'AFRICAN EMERALD CUCKOO',\n",
              " 5: 'AFRICAN FIREFINCH',\n",
              " 6: 'AFRICAN OYSTER CATCHER',\n",
              " 7: 'AFRICAN PIED HORNBILL',\n",
              " 8: 'AFRICAN PYGMY GOOSE',\n",
              " 9: 'ALBATROSS',\n",
              " 10: 'ALBERTS TOWHEE',\n",
              " 11: 'ALEXANDRINE PARAKEET',\n",
              " 12: 'ALPINE CHOUGH',\n",
              " 13: 'ALTAMIRA YELLOWTHROAT',\n",
              " 14: 'AMERICAN AVOCET',\n",
              " 15: 'AMERICAN BITTERN',\n",
              " 16: 'AMERICAN COOT',\n",
              " 17: 'AMERICAN FLAMINGO',\n",
              " 18: 'AMERICAN GOLDFINCH',\n",
              " 19: 'AMERICAN KESTREL'}"
            ]
          },
          "execution_count": 17,
          "metadata": {},
          "output_type": "execute_result"
        }
      ],
      "source": [
        "# Create number to category map\n",
        "numbers = birds_df['number'].sort_values().unique()\n",
        "labels = birds_df['label'].sort_values().unique()\n",
        "\n",
        "category_map = pd.Series(labels, index=numbers).to_dict()\n",
        "category_map"
      ]
    },
    {
      "cell_type": "code",
      "execution_count": null,
      "metadata": {},
      "outputs": [
        {
          "data": {
            "text/plain": [
              "(224, 224)"
            ]
          },
          "execution_count": 11,
          "metadata": {},
          "output_type": "execute_result"
        }
      ],
      "source": [
        "# Define dimensions for image generator\n",
        "width = math.floor(birds_df['width'].mean())\n",
        "height = math.floor(birds_df['height'].mean())\n",
        "\n",
        "(width, height)"
      ]
    },
    {
      "cell_type": "markdown",
      "metadata": {
        "id": "yeprgH-KNbgf"
      },
      "source": [
        "## Data Modeling"
      ]
    },
    {
      "cell_type": "markdown",
      "metadata": {
        "id": "K_38y7GGNevY"
      },
      "source": [
        "### Load Pretrained Model"
      ]
    },
    {
      "cell_type": "code",
      "execution_count": 19,
      "metadata": {
        "id": "gS6IWeHZ9_cp"
      },
      "outputs": [],
      "source": [
        "# Get pre-trained model\n",
        "checkpoint = 'google/vit-base-patch16-224'"
      ]
    },
    {
      "cell_type": "code",
      "execution_count": 20,
      "metadata": {
        "id": "LoCEPQwRUiAL"
      },
      "outputs": [],
      "source": [
        "feature_extractor = ViTImageProcessor.from_pretrained(checkpoint)"
      ]
    },
    {
      "cell_type": "code",
      "execution_count": 14,
      "metadata": {
        "colab": {
          "base_uri": "https://localhost:8080/"
        },
        "id": "L_GbJN3d8ldn",
        "outputId": "336438a1-e277-434d-d267-f3a2c912691b"
      },
      "outputs": [
        {
          "name": "stdout",
          "output_type": "stream",
          "text": [
            "Requirement already satisfied: huggingface_hub[hf_xet] in /usr/local/lib/python3.11/dist-packages (0.30.1)\n",
            "Requirement already satisfied: filelock in /usr/local/lib/python3.11/dist-packages (from huggingface_hub[hf_xet]) (3.18.0)\n",
            "Requirement already satisfied: fsspec>=2023.5.0 in /usr/local/lib/python3.11/dist-packages (from huggingface_hub[hf_xet]) (2025.3.2)\n",
            "Requirement already satisfied: packaging>=20.9 in /usr/local/lib/python3.11/dist-packages (from huggingface_hub[hf_xet]) (24.2)\n",
            "Requirement already satisfied: pyyaml>=5.1 in /usr/local/lib/python3.11/dist-packages (from huggingface_hub[hf_xet]) (6.0.2)\n",
            "Requirement already satisfied: requests in /usr/local/lib/python3.11/dist-packages (from huggingface_hub[hf_xet]) (2.32.3)\n",
            "Requirement already satisfied: tqdm>=4.42.1 in /usr/local/lib/python3.11/dist-packages (from huggingface_hub[hf_xet]) (4.67.1)\n",
            "Requirement already satisfied: typing-extensions>=3.7.4.3 in /usr/local/lib/python3.11/dist-packages (from huggingface_hub[hf_xet]) (4.13.0)\n",
            "Requirement already satisfied: hf-xet>=0.1.4 in /usr/local/lib/python3.11/dist-packages (from huggingface_hub[hf_xet]) (1.0.2)\n",
            "Requirement already satisfied: charset-normalizer<4,>=2 in /usr/local/lib/python3.11/dist-packages (from requests->huggingface_hub[hf_xet]) (3.4.1)\n",
            "Requirement already satisfied: idna<4,>=2.5 in /usr/local/lib/python3.11/dist-packages (from requests->huggingface_hub[hf_xet]) (3.10)\n",
            "Requirement already satisfied: urllib3<3,>=1.21.1 in /usr/local/lib/python3.11/dist-packages (from requests->huggingface_hub[hf_xet]) (2.3.0)\n",
            "Requirement already satisfied: certifi>=2017.4.17 in /usr/local/lib/python3.11/dist-packages (from requests->huggingface_hub[hf_xet]) (2025.1.31)\n"
          ]
        }
      ],
      "source": [
        "# pip install huggingface_hub[hf_xet]"
      ]
    },
    {
      "cell_type": "code",
      "execution_count": 21,
      "metadata": {
        "colab": {
          "base_uri": "https://localhost:8080/"
        },
        "id": "zrTBQHhbVnRp",
        "outputId": "c2d4f289-e136-40cf-9664-bcb6f0ec60e5"
      },
      "outputs": [
        {
          "name": "stderr",
          "output_type": "stream",
          "text": [
            "All PyTorch model weights were used when initializing TFViTForImageClassification.\n",
            "\n",
            "All the weights of TFViTForImageClassification were initialized from the PyTorch model.\n",
            "If your task is similar to the task the model of the checkpoint was trained on, you can already use TFViTForImageClassification for predictions without further training.\n"
          ]
        }
      ],
      "source": [
        "model = ViTForImageClassification.from_pretrained(checkpoint)"
      ]
    },
    {
      "cell_type": "markdown",
      "metadata": {
        "id": "fRbmct3pMS65"
      },
      "source": [
        "## Evaluate Model"
      ]
    },
    {
      "cell_type": "markdown",
      "metadata": {
        "id": "GBSxW9zXMWJR"
      },
      "source": [
        "## Fine-tuning"
      ]
    },
    {
      "cell_type": "markdown",
      "metadata": {
        "id": "SSq04IeeMQt_"
      },
      "source": [
        "## Make predictions"
      ]
    },
    {
      "cell_type": "code",
      "execution_count": null,
      "metadata": {
        "id": "pVy6glBVVnG3"
      },
      "outputs": [],
      "source": [
        "inputs = feature_extractor(images=image, return_tensors=\"tf\")"
      ]
    },
    {
      "cell_type": "code",
      "execution_count": null,
      "metadata": {
        "id": "aR4W4x4-WCYq"
      },
      "outputs": [],
      "source": [
        "outputs = model(**inputs)"
      ]
    },
    {
      "cell_type": "code",
      "execution_count": null,
      "metadata": {
        "colab": {
          "base_uri": "https://localhost:8080/"
        },
        "id": "8FMNbZxfWF02",
        "outputId": "991b9511-e16b-4f78-dcf3-0dfa7ba82caa"
      },
      "outputs": [
        {
          "data": {
            "text/plain": [
              "<tf.Tensor: shape=(1, 1000), dtype=float32, numpy=\n",
              "array([[-9.04861912e-02,  4.56755430e-01, -1.74099529e+00,\n",
              "        -7.55263150e-01, -1.53313720e+00, -1.62584275e-01,\n",
              "        -5.63834548e-01,  1.66435406e-01,  1.73717988e+00,\n",
              "         1.07816890e-01,  7.72929001e+00,  2.35874677e+00,\n",
              "         4.12388706e+00,  6.46748877e+00,  2.51989484e+00,\n",
              "         2.50273299e+00,  6.62427950e+00,  4.09336853e+00,\n",
              "         3.60902023e+00,  6.80125427e+00,  6.74532652e+00,\n",
              "         7.29744211e-02, -6.67990327e-01, -8.78206611e-01,\n",
              "         2.18577504e-01,  1.00066113e+00,  7.81633854e-01,\n",
              "         4.76002842e-02,  6.46305323e-01,  3.84979814e-01,\n",
              "         3.05086911e-01, -7.18524158e-01, -2.55222559e-01,\n",
              "        -6.25869274e-01,  4.57130104e-01,  1.74121881e+00,\n",
              "         1.31881320e+00,  1.47069085e+00,  4.32786494e-01,\n",
              "        -8.24516565e-02,  8.41559023e-02,  1.65074325e+00,\n",
              "         2.94527590e-01,  4.80868489e-01,  1.69106758e+00,\n",
              "         1.37743545e+00, -2.88802564e-01,  1.32710910e+00,\n",
              "         2.47914076e+00,  1.07299507e+00, -1.13487206e-01,\n",
              "         1.20652568e+00,  8.10513556e-01,  9.57836211e-01,\n",
              "        -1.09909683e-01, -2.36964375e-01, -4.63194028e-02,\n",
              "         5.26060343e-01,  5.55347502e-01,  1.54142559e+00,\n",
              "         1.17565584e+00,  5.60852110e-01,  9.68109429e-01,\n",
              "         9.66781735e-01,  9.24555510e-02, -7.19710290e-01,\n",
              "         8.69961500e-01,  7.47683942e-02,  7.31470227e-01,\n",
              "         1.52778864e-01,  7.71294713e-01, -2.88280755e-01,\n",
              "        -9.75190699e-01,  1.10009491e+00, -1.82690710e-01,\n",
              "        -8.31876755e-01,  7.84963667e-02, -1.38916612e-01,\n",
              "         1.15237820e+00, -3.45573686e-02,  2.02862668e+00,\n",
              "         6.45128906e-01,  2.22105503e+00,  1.42755687e+00,\n",
              "        -1.08651653e-01,  2.46822810e+00,  3.92494702e+00,\n",
              "         6.92589402e-01, -5.60610116e-01, -1.23606250e-03,\n",
              "         1.27571452e+00,  3.06578279e+00,  1.94516647e+00,\n",
              "         1.05105150e+00,  3.05883074e+00,  5.50937414e+00,\n",
              "         7.69062042e-01, -7.56967440e-02,  1.49070930e+00,\n",
              "        -5.55922627e-01, -7.28491366e-01,  3.65543187e-01,\n",
              "         4.66288298e-01,  6.87502086e-01, -3.90227258e-01,\n",
              "        -5.11831224e-01, -4.90985096e-01, -8.66075575e-01,\n",
              "        -5.28554082e-01, -1.01906508e-01, -4.15931851e-01,\n",
              "         4.08221841e-01, -8.62614885e-02,  1.39335561e+00,\n",
              "         8.92495036e-01, -1.13049567e+00, -5.71055055e-01,\n",
              "         3.44868004e-01, -5.35565078e-01,  2.93010354e-01,\n",
              "         8.09620917e-01, -4.88242656e-01, -6.05752528e-01,\n",
              "         7.97182798e-01,  4.07165140e-01,  4.75480080e-01,\n",
              "         3.93407315e-01, -1.89940643e+00, -4.03954983e-01,\n",
              "        -2.94113100e-01, -8.31114829e-01, -4.36614007e-01,\n",
              "        -9.85807478e-01,  6.24015033e-01, -1.05611324e+00,\n",
              "        -9.31086123e-01,  1.65092587e+00,  7.68133223e-01,\n",
              "        -5.93877174e-02,  5.03410816e-01,  5.52284122e-01,\n",
              "         1.34937182e-01, -5.64495847e-03, -3.69781673e-01,\n",
              "        -1.44134378e+00,  6.07255876e-01,  6.43795073e-01,\n",
              "         6.76440835e-01,  3.56293827e-01, -3.39486212e-01,\n",
              "        -2.87782252e-01, -1.65763110e-01, -4.98242915e-01,\n",
              "        -1.06549513e+00, -9.25246358e-01, -2.05751613e-01,\n",
              "        -1.00616288e+00, -8.51919532e-01, -1.40661132e+00,\n",
              "        -5.64361274e-01, -1.32561958e+00, -1.24574649e+00,\n",
              "        -7.84868300e-01, -6.02023602e-01, -7.93520153e-01,\n",
              "        -1.39043558e+00, -4.38930094e-01, -7.98774838e-01,\n",
              "        -3.62517506e-01, -5.06949663e-01,  2.01145515e-01,\n",
              "        -6.66811585e-01,  3.96514356e-01, -1.39689237e-01,\n",
              "        -4.50934350e-01, -7.81745434e-01, -9.26074505e-01,\n",
              "        -3.13893557e-01, -8.19393575e-01, -1.21228606e-01,\n",
              "        -1.41670674e-01, -5.93945503e-01, -6.63312972e-01,\n",
              "        -8.20549607e-01, -5.16073287e-01, -9.69207466e-01,\n",
              "        -1.45251715e+00, -1.01738572e+00, -4.78255033e-01,\n",
              "        -4.82382953e-01, -5.41457832e-01, -9.92677987e-01,\n",
              "        -1.00179696e+00, -7.10143864e-01,  4.01340872e-01,\n",
              "        -5.20666778e-01, -5.54170251e-01, -4.73834068e-01,\n",
              "        -7.82601535e-02, -1.02761376e+00, -2.63974667e-01,\n",
              "        -1.28891122e+00, -8.39706659e-01, -3.33765894e-01,\n",
              "        -5.65669894e-01, -9.02716637e-01, -2.49178872e-01,\n",
              "        -2.60317978e-02, -3.01351398e-01,  2.30748907e-01,\n",
              "        -9.60222602e-01, -3.25392902e-01, -4.96134162e-01,\n",
              "         1.95865929e-01, -1.13051438e+00, -1.95464239e-01,\n",
              "         1.10510223e-01, -4.86568719e-01, -7.66395092e-01,\n",
              "        -3.02196711e-01,  7.90671557e-02,  4.26122136e-02,\n",
              "         2.61243165e-01, -1.72320390e+00, -7.28742361e-01,\n",
              "        -2.50793666e-01, -1.39215440e-01,  3.76771361e-01,\n",
              "        -1.91849813e-01, -1.44131973e-01, -3.47549915e-01,\n",
              "         5.69478869e-01, -8.16287939e-03, -5.13651073e-01,\n",
              "        -7.73372710e-01, -1.12700009e+00, -8.54862392e-01,\n",
              "        -1.43559718e+00, -7.60528207e-01, -1.20841384e+00,\n",
              "        -8.17953467e-01, -6.40247583e-01, -4.10329193e-01,\n",
              "        -3.35384011e-01, -1.59148610e+00, -1.53355873e+00,\n",
              "        -6.42322898e-01, -4.07049567e-01,  5.13532579e-01,\n",
              "        -7.65751123e-01,  4.48476337e-02, -1.24334311e+00,\n",
              "        -1.14460993e+00, -8.32639933e-01, -7.62248576e-01,\n",
              "        -6.30405128e-01, -1.28295672e+00, -1.23048566e-01,\n",
              "        -1.01967382e+00, -5.77205062e-01, -9.86853659e-01,\n",
              "        -7.67767608e-01, -6.35441661e-01, -4.54062283e-01,\n",
              "        -4.58258569e-01, -1.18688810e+00, -4.56041217e-01,\n",
              "        -4.18140262e-01,  9.12770510e-01,  2.79174864e-01,\n",
              "         2.79136807e-01,  2.39841223e-01, -4.55111340e-02,\n",
              "         3.26570302e-01,  3.10318973e-02,  4.41665649e-01,\n",
              "         6.62905872e-02, -2.33040437e-01, -4.51057732e-01,\n",
              "        -1.66282758e-01,  8.32931474e-02, -3.74849945e-01,\n",
              "        -2.81737298e-01, -3.91149223e-01,  2.89469622e-02,\n",
              "        -3.89385968e-01, -3.41207813e-03, -1.10400689e+00,\n",
              "        -3.57564390e-02,  6.70796335e-01, -1.20385371e-01,\n",
              "         1.73490614e-01,  7.89033324e-02, -1.48161173e+00,\n",
              "         8.81955847e-02, -5.90313375e-01,  3.53900433e-01,\n",
              "         7.13191450e-01,  1.00826812e+00,  1.16781461e+00,\n",
              "        -2.46788725e-01, -4.76818860e-01,  3.71595979e-01,\n",
              "         1.01463592e+00, -4.91504103e-01, -1.30162314e-01,\n",
              "        -1.21699266e-01,  7.20814168e-01,  1.74448133e+00,\n",
              "         9.77291465e-01, -6.86252654e-01,  2.71649193e-03,\n",
              "         5.48173964e-01,  3.72730434e-01,  8.72888416e-02,\n",
              "         4.02892649e-01,  1.28287721e+00,  5.42662740e-01,\n",
              "         1.49756765e+00,  8.00248384e-01,  8.58892143e-01,\n",
              "        -1.20467715e-01,  1.82407469e-01, -9.27092552e-01,\n",
              "        -1.56062901e-01, -7.04552770e-01,  2.22212911e-01,\n",
              "        -6.99048758e-01, -5.18466890e-01, -1.40080452e+00,\n",
              "        -2.18653884e-02,  2.88149733e-02, -1.05320799e+00,\n",
              "        -9.86612976e-01, -4.03587401e-01,  8.40975642e-01,\n",
              "         7.89965928e-01, -5.20380020e-01, -5.00164151e-01,\n",
              "        -3.84647101e-01, -9.51520503e-01,  1.37529135e+00,\n",
              "         1.61059797e+00,  9.72144723e-01, -3.83541882e-01,\n",
              "         1.46521902e+00,  8.78469884e-01,  3.38454321e-02,\n",
              "         3.19220603e-01,  5.39796114e-01,  2.09406123e-01,\n",
              "        -1.80174291e+00, -9.86384094e-01, -4.64367747e-01,\n",
              "         4.75082636e-01, -2.31982052e-01,  9.65244293e-01,\n",
              "         4.59915400e-01,  3.54872763e-01, -5.03920078e-01,\n",
              "         7.76809931e-01,  1.07418053e-01,  1.54792380e+00,\n",
              "         1.40741527e+00,  9.47284698e-01, -6.82241097e-02,\n",
              "        -4.17729199e-01, -9.73645002e-02,  1.08437014e+00,\n",
              "         8.85071158e-01,  2.09927535e+00,  7.53767312e-01,\n",
              "         3.32134604e-01,  1.40250444e+00,  4.68956441e-01,\n",
              "        -4.38882038e-04, -6.87557310e-02,  2.43018627e+00,\n",
              "         1.48839667e-01,  1.75302848e-01,  1.98562312e+00,\n",
              "         7.80539140e-02,  1.30829763e+00,  8.79639924e-01,\n",
              "         1.81670785e+00,  6.10075533e-01, -5.83381653e-01,\n",
              "        -2.25957602e-01, -2.39969473e-02,  8.24024808e-03,\n",
              "         1.79069430e-01, -4.75145310e-01, -4.12133560e-02,\n",
              "        -6.14232659e-01,  1.41065285e-01,  3.90999079e-01,\n",
              "        -4.69743848e-01,  1.99622229e-01, -8.92067373e-01,\n",
              "        -7.35050812e-02, -8.04943919e-01, -7.43077159e-01,\n",
              "        -2.34470296e+00, -4.77766246e-01, -2.15114668e-01,\n",
              "         9.72248018e-01, -4.08579051e-01,  9.95213985e-01,\n",
              "         9.53779042e-01, -2.66632974e-01, -8.93013775e-01,\n",
              "         2.46378601e-01, -3.30921024e-01, -4.16006625e-01,\n",
              "         2.95814633e-01, -9.32746351e-01, -1.87867619e-02,\n",
              "         1.95389628e-01,  1.61420196e-01,  6.26107931e-01,\n",
              "        -1.36275625e+00,  3.14103544e-01,  3.53057086e-01,\n",
              "        -1.16996467e+00, -1.06898284e+00,  1.14595330e+00,\n",
              "         3.94731343e-01,  1.56150150e+00, -4.20282841e-01,\n",
              "         1.29456902e+00,  1.30439472e+00, -5.21349788e-01,\n",
              "        -3.37639153e-01,  6.06513694e-02, -1.11471224e+00,\n",
              "        -3.95202458e-01, -9.37214270e-02, -1.08451498e+00,\n",
              "        -2.36457467e-01, -7.85689533e-01,  3.14934790e-01,\n",
              "        -4.94283020e-01,  5.35593070e-02, -7.36465305e-02,\n",
              "        -5.04930854e-01,  5.04494786e-01, -5.98559193e-02,\n",
              "         8.70607615e-01,  8.10614526e-01,  2.86043644e-01,\n",
              "        -9.74734545e-01, -3.98039937e-01, -2.53778957e-02,\n",
              "         1.18555896e-01, -3.98925871e-01,  6.37517218e-03,\n",
              "         1.00344980e+00, -1.02989936e+00, -1.16341591e+00,\n",
              "         9.76411760e-01, -7.23819971e-01, -7.40523636e-01,\n",
              "         1.14850819e+00,  7.96266019e-01,  5.04168093e-01,\n",
              "        -3.57389301e-02, -2.69126713e-01,  1.80185974e-01,\n",
              "         3.09345692e-01,  1.52375424e+00,  2.52624303e-01,\n",
              "         3.28876793e-01, -5.50964296e-01,  5.74541807e-01,\n",
              "         1.84651777e-01, -6.48539424e-01,  1.15795441e-01,\n",
              "         7.16323435e-01, -3.66029322e-01,  5.97896993e-01,\n",
              "        -1.23781502e+00, -2.03076899e-01, -9.31606889e-01,\n",
              "         6.48450479e-02, -3.11456591e-01, -2.24521160e+00,\n",
              "        -1.39088118e+00, -1.20875764e+00,  6.20046616e-01,\n",
              "        -3.98910701e-01,  1.81257457e-01, -9.40733612e-01,\n",
              "        -1.23553753e+00, -1.72179186e+00,  7.88040817e-01,\n",
              "        -5.92012107e-01, -6.20919049e-01, -1.42521456e-01,\n",
              "         2.86366880e-01,  1.17667794e+00,  5.17548501e-01,\n",
              "        -1.02902785e-01,  4.04549867e-01,  7.40095496e-01,\n",
              "        -2.11583719e-01,  2.76592016e-01,  8.61489832e-01,\n",
              "         1.00343323e+00, -8.18324327e-01, -1.71025741e+00,\n",
              "         1.50036767e-01, -2.77345151e-01,  8.30210090e-01,\n",
              "        -8.12037349e-01,  3.12929243e-01, -4.23971266e-01,\n",
              "        -2.76193708e-01,  1.13347076e-01,  1.21134138e+00,\n",
              "        -4.94788378e-01, -4.09745574e-01, -7.86502719e-01,\n",
              "         1.07197642e+00,  1.23811758e+00, -6.12982213e-02,\n",
              "        -1.96189806e-01, -7.09391356e-01, -5.16623735e-01,\n",
              "        -1.27167892e+00, -9.16316137e-02, -1.38453722e-01,\n",
              "         4.27966118e-01, -5.64053357e-01, -4.68816549e-01,\n",
              "        -1.17675316e+00,  8.78226876e-01,  3.01899403e-01,\n",
              "        -1.05641261e-01, -5.98183870e-01, -4.89265919e-01,\n",
              "         4.50586915e-01, -2.97370076e-01, -2.10519239e-01,\n",
              "        -7.51659572e-01,  2.07216352e-01,  5.92080355e-01,\n",
              "        -4.78112906e-01, -6.46713912e-01, -1.27478302e+00,\n",
              "        -6.25702500e-01, -6.70909584e-01, -7.02946633e-02,\n",
              "        -4.86404836e-01, -1.37763631e+00, -1.70008130e-02,\n",
              "         1.02254197e-01,  9.99460444e-02,  4.47275072e-01,\n",
              "        -2.95130551e-01, -5.07248640e-01,  4.13345009e-01,\n",
              "         6.46641612e-01,  1.97531298e-01, -3.97612989e-01,\n",
              "        -4.55502301e-01, -4.71528396e-02, -3.07242721e-01,\n",
              "         1.87685996e-01, -9.64617848e-01, -1.10824156e+00,\n",
              "        -5.93641222e-01,  2.72971392e-01, -9.50482637e-02,\n",
              "        -2.70896126e-02,  9.95411575e-01, -1.09510764e-01,\n",
              "         3.50705385e-02,  1.58366472e-01,  6.70409426e-02,\n",
              "        -1.02523124e+00, -1.18156150e-03,  1.10166214e-01,\n",
              "         7.82551989e-02,  2.29425445e-01,  6.85290933e-01,\n",
              "        -2.43273258e-01,  4.89885435e-02,  9.96333897e-01,\n",
              "         1.85652554e-01, -7.61908963e-02, -9.28555489e-01,\n",
              "        -1.00222564e+00, -1.15081501e+00, -1.40742511e-01,\n",
              "        -3.79295588e-01, -3.58694851e-01,  9.55685198e-01,\n",
              "         6.74750447e-01, -6.71808362e-01,  7.90602207e-01,\n",
              "         1.02286971e+00, -8.55797604e-02,  5.01413830e-02,\n",
              "        -3.84797126e-01,  4.32299286e-01, -1.00039816e+00,\n",
              "        -2.47948900e-01, -3.17617506e-01, -3.72705888e-03,\n",
              "         4.08289224e-01, -7.18689620e-01, -1.11229539e+00,\n",
              "         7.34379172e-01, -2.26189911e-01, -3.92159045e-01,\n",
              "         1.26502860e+00,  7.99128473e-01, -5.13022006e-01,\n",
              "         9.99995649e-01, -8.93163264e-01, -1.75001228e+00,\n",
              "        -3.62661928e-01, -3.73064965e-01, -1.00772762e+00,\n",
              "        -2.91535825e-01, -4.60943490e-01,  6.85378253e-01,\n",
              "         1.89253837e-01,  8.96710455e-02,  2.18579888e-01,\n",
              "        -1.70026863e+00, -1.54588684e-01, -1.13907087e+00,\n",
              "        -8.13248754e-03, -2.88047139e-02,  3.57526869e-01,\n",
              "        -2.67674357e-01, -1.01418960e+00,  5.25995120e-02,\n",
              "        -4.32913959e-01,  9.42828134e-03,  1.71465710e-01,\n",
              "        -7.08312511e-01, -4.56508726e-01, -3.52243215e-01,\n",
              "         6.80574477e-01, -5.14497995e-01, -2.57334679e-01,\n",
              "        -9.31830704e-01,  5.72701871e-01,  7.16036260e-01,\n",
              "        -2.41036713e-01, -3.18186104e-01,  2.04787776e-01,\n",
              "         1.24280624e-01, -1.18477404e+00,  4.97732103e-01,\n",
              "        -1.09662127e+00, -5.87250352e-01,  3.97716731e-01,\n",
              "        -8.23053658e-01, -9.36820433e-02, -6.70632660e-01,\n",
              "         5.30370891e-01, -1.09975410e+00, -5.75765252e-01,\n",
              "         6.15662932e-01, -5.23891032e-01, -1.19841903e-01,\n",
              "         1.61111981e-01,  4.43480074e-01,  2.81807017e-02,\n",
              "         4.70886797e-01, -8.83089006e-02,  1.22059000e+00,\n",
              "         9.73157465e-01,  7.04271555e-01,  5.75294256e-01,\n",
              "         4.15360808e-01, -4.21980396e-02, -1.30588472e+00,\n",
              "        -1.73918664e+00, -1.22721398e+00, -3.90085846e-01,\n",
              "        -2.21903041e-01,  7.59555697e-02,  1.00718796e-01,\n",
              "        -1.18447042e+00, -5.01556456e-01, -1.58500299e-01,\n",
              "         5.18055744e-02, -5.02158523e-01, -2.26510853e-01,\n",
              "         8.89404714e-01, -1.34690791e-01,  1.54448020e+00,\n",
              "         1.15101472e-01, -8.97440594e-03,  1.65322214e-01,\n",
              "         5.31809747e-01,  1.73283860e-01,  2.77059168e-01,\n",
              "         6.90527141e-01, -3.01680028e-01, -2.97655582e-01,\n",
              "        -7.08067603e-03, -9.45398331e-01, -1.18322790e+00,\n",
              "        -9.99668777e-01, -2.13378835e+00, -1.56855926e-01,\n",
              "         3.08257323e-02, -5.43336213e-01,  2.59573966e-01,\n",
              "        -7.54866123e-01, -1.74017727e-01,  1.94425970e-01,\n",
              "        -4.42782998e-01,  2.28321418e-01, -3.20500851e-01,\n",
              "        -5.68995059e-01, -8.17513645e-01,  3.57928634e-01,\n",
              "        -2.52827648e-02,  4.43209380e-01, -1.11516273e+00,\n",
              "         3.35597336e-01,  1.86969683e-01, -3.77642699e-02,\n",
              "        -3.90489101e-01,  7.12506890e-01, -1.48346618e-01,\n",
              "        -8.30144286e-01,  6.19641840e-01,  3.72606993e-01,\n",
              "        -3.89399886e-01, -7.94973791e-01, -3.67805809e-01,\n",
              "         3.61841530e-01, -1.43411815e+00,  4.88967299e-01,\n",
              "        -3.27629387e-01, -4.34940040e-01,  3.60498637e-01,\n",
              "        -2.74387419e-01,  6.84306696e-02,  6.62172496e-01,\n",
              "         4.84566450e-01, -4.26398993e-01,  6.76955283e-01,\n",
              "        -5.53239703e-01,  7.02874899e-01,  4.86440629e-01,\n",
              "        -7.31980503e-01, -3.93997341e-01, -5.43501914e-01,\n",
              "         1.02278781e+00, -2.29485184e-02,  8.60885799e-01,\n",
              "        -1.07305467e+00, -7.28583694e-01, -8.32959190e-02,\n",
              "         2.41214022e-01,  6.69186115e-01, -2.92845488e-01,\n",
              "        -7.67811000e-01,  1.14634514e+00,  1.10466480e+00,\n",
              "         5.81110060e-01,  8.88265073e-01, -1.99193284e-01,\n",
              "        -9.23911154e-01,  3.70860845e-01,  3.83868143e-02,\n",
              "         1.24392085e-01, -1.35320812e-01,  6.92579448e-01,\n",
              "        -3.91218364e-01, -8.33756208e-01,  7.17702925e-01,\n",
              "         1.79593980e-01,  2.46667832e-01, -3.05866569e-01,\n",
              "        -1.17038637e-01,  1.03497796e-01, -3.74123842e-01,\n",
              "        -4.05071765e-01, -8.52721870e-01, -1.53567207e+00,\n",
              "         3.33984196e-03,  4.45921421e-01, -3.56312692e-01,\n",
              "         1.30130994e+00,  5.38208842e-01, -1.33539665e+00,\n",
              "         5.00038505e-01,  7.60710761e-02, -4.87907603e-02,\n",
              "        -1.27308404e+00, -6.48830533e-01,  1.87315047e-01,\n",
              "         1.51050672e-01,  1.42928705e-01,  8.68992060e-02,\n",
              "        -4.11576360e-01,  1.01890957e+00, -7.30712473e-01,\n",
              "        -7.79684067e-01, -5.94825029e-01,  2.74921451e-02,\n",
              "        -8.16243112e-01, -2.87268758e-01, -4.65603083e-01,\n",
              "         1.53590369e+00,  4.41408068e-01, -6.61850631e-01,\n",
              "        -6.02438211e-01,  6.41742110e-01,  7.21509457e-01,\n",
              "        -5.51333010e-01, -2.88977027e-01,  6.05035543e-01,\n",
              "        -5.31895399e-01, -3.42014223e-01,  4.21107471e-01,\n",
              "         3.36972684e-01, -1.98852159e-02, -2.26720080e-01,\n",
              "         2.97769487e-01, -1.42541349e-01,  3.22200388e-01,\n",
              "        -6.68782949e-01, -3.87288928e-02, -2.44481236e-01,\n",
              "        -1.06034291e+00, -1.94166079e-01, -3.00452769e-01,\n",
              "        -9.47005868e-01,  3.95874709e-01,  6.33372962e-02,\n",
              "        -2.69383252e-01, -1.09242284e+00, -2.45777220e-01,\n",
              "         1.95366398e-01,  4.59137887e-01, -4.88020897e-01,\n",
              "        -7.07231283e-01, -1.87961921e-01, -1.94367871e-01,\n",
              "         5.32664917e-02, -7.95593381e-01, -9.47800338e-01,\n",
              "         1.26316226e+00, -3.87537271e-01, -6.23963654e-01,\n",
              "         1.72284114e+00, -1.05939090e-01, -1.23050261e+00,\n",
              "         1.28477722e-01, -1.32973409e+00, -7.24644780e-01,\n",
              "        -6.64100289e-01,  1.29194283e+00, -1.16373634e+00,\n",
              "        -1.84845865e-01, -1.16243935e+00,  4.34912831e-01,\n",
              "         6.79753348e-02,  2.80389428e-01, -3.97615373e-01,\n",
              "         6.88553572e-01,  2.38004953e-01, -8.93178523e-01,\n",
              "        -7.14230776e-01,  3.13367099e-01,  4.44269121e-01,\n",
              "        -9.29758132e-01, -2.02017382e-01, -9.93822396e-01,\n",
              "        -4.83017981e-01, -7.65670240e-02, -1.28766167e+00,\n",
              "        -1.15913630e+00, -5.17446578e-01, -1.16849013e-01,\n",
              "         2.04345196e-01,  1.59208626e-01, -4.07390922e-01,\n",
              "         8.27900410e-01, -8.18124890e-01,  5.43258011e-01,\n",
              "        -2.10238123e+00, -5.09934779e-03, -6.44154921e-02,\n",
              "        -1.40922797e+00, -4.82915103e-01, -5.15130043e-01,\n",
              "        -8.26222479e-01,  9.10290480e-02,  2.01261342e-01,\n",
              "         9.95924175e-01,  3.93893391e-01,  1.85618329e+00,\n",
              "        -6.77185357e-01,  2.23901063e-01, -3.92059594e-01,\n",
              "        -5.55242836e-01,  1.94822490e-01, -2.61684656e-01,\n",
              "         3.32032561e-01, -1.38356388e-01, -5.84409058e-01,\n",
              "         2.25970817e+00,  2.46870205e-01,  6.94276810e-01,\n",
              "        -1.27648616e+00, -5.12738585e-01, -7.88239360e-01,\n",
              "        -8.88865173e-01, -9.70922172e-01,  3.36629897e-02,\n",
              "        -1.30379510e+00,  1.31231606e-01,  1.96832776e-01,\n",
              "        -1.16655394e-01,  3.39526564e-01, -2.54376203e-01,\n",
              "         7.32622206e-01, -3.85561109e-01,  3.60169560e-02,\n",
              "        -5.96850574e-01, -3.87896866e-01, -7.35809803e-01,\n",
              "        -4.09103930e-01, -3.42977345e-01,  5.01763761e-01,\n",
              "         1.07307208e+00,  1.30849868e-01,  3.99024069e-01,\n",
              "        -4.88335222e-01, -2.65720874e-01, -1.73650116e-01,\n",
              "        -2.96019077e-01, -3.46088767e-01, -5.08165538e-01,\n",
              "         4.65541095e-01,  3.02495867e-01,  6.38554454e-01,\n",
              "        -6.51341975e-01, -1.66969270e-01, -3.74866158e-01,\n",
              "        -3.61242771e-01,  1.24620283e+00, -8.46565008e-01,\n",
              "        -7.63509631e-01, -8.93141255e-02, -7.94762194e-01,\n",
              "        -8.14738512e-01,  7.12874115e-01, -2.87214756e-01,\n",
              "         3.68403673e-01, -5.74674249e-01,  6.64597869e-01,\n",
              "        -4.13778350e-02, -3.44583958e-01, -1.28283191e+00,\n",
              "         2.16919273e-01, -6.74176633e-01, -8.50156426e-01,\n",
              "         3.17143112e-01,  7.21413493e-01,  1.00406572e-01,\n",
              "         6.77147269e-01, -4.70911533e-01,  4.79625970e-01,\n",
              "         7.99219489e-01, -7.11919248e-01, -1.46180585e-01,\n",
              "         9.11141455e-01,  5.80504298e-01,  4.20963377e-01,\n",
              "         3.27018589e-01,  7.44242147e-02, -3.68932456e-01,\n",
              "        -3.14707935e-01,  2.83383906e-01, -6.66453302e-01,\n",
              "         8.34689379e-01,  8.12180698e-01,  1.07548809e+00,\n",
              "         2.54940033e-01,  6.25503182e-01,  8.62627104e-02,\n",
              "         6.45604849e-01, -4.95890155e-02,  8.31050456e-01,\n",
              "         8.07415843e-01,  4.03174102e-01,  1.12002480e+00,\n",
              "         3.62058133e-02]], dtype=float32)>"
            ]
          },
          "execution_count": 15,
          "metadata": {},
          "output_type": "execute_result"
        }
      ],
      "source": [
        "logits = outputs.logits\n",
        "logits"
      ]
    },
    {
      "cell_type": "code",
      "execution_count": null,
      "metadata": {
        "colab": {
          "base_uri": "https://localhost:8080/"
        },
        "id": "LVBYOn6wWLrZ",
        "outputId": "797eeab9-d8c9-4174-d77e-5bfaa5a14b31"
      },
      "outputs": [
        {
          "name": "stdout",
          "output_type": "stream",
          "text": [
            "Predicted class: brambling, Fringilla montifringilla\n"
          ]
        }
      ],
      "source": [
        "predicted_class_idx = logits.numpy().argmax(-1).item()\n",
        "print(\"Predicted class:\", model.config.id2label[predicted_class_idx])"
      ]
    },
    {
      "cell_type": "markdown",
      "metadata": {
        "id": "6YGxHW-bMbW6"
      },
      "source": [
        "## End"
      ]
    },
    {
      "cell_type": "code",
      "execution_count": null,
      "metadata": {
        "id": "GCMoLpXjMb2U"
      },
      "outputs": [],
      "source": []
    }
  ],
  "metadata": {
    "colab": {
      "provenance": []
    },
    "kernelspec": {
      "display_name": "base",
      "language": "python",
      "name": "python3"
    },
    "language_info": {
      "codemirror_mode": {
        "name": "ipython",
        "version": 3
      },
      "file_extension": ".py",
      "mimetype": "text/x-python",
      "name": "python",
      "nbconvert_exporter": "python",
      "pygments_lexer": "ipython3",
      "version": "3.12.4"
    }
  },
  "nbformat": 4,
  "nbformat_minor": 0
}
